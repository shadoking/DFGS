{
 "cells": [
  {
   "cell_type": "markdown",
   "id": "aab1da56",
   "metadata": {},
   "source": [
    "# 椭圆轨道"
   ]
  },
  {
   "cell_type": "code",
   "execution_count": 3,
   "id": "adfa53a5",
   "metadata": {
    "ExecuteTime": {
     "end_time": "2024-12-20T05:07:21.136545Z",
     "start_time": "2024-12-20T05:07:21.127545Z"
    }
   },
   "outputs": [],
   "source": [
    "import torch\n",
    "import torchvision\n",
    "import numpy as np\n",
    "import importlib\n",
    "from argparse import ArgumentParser, Namespace\n",
    "from arguments import ModelParams, PipelineParams, OptimizationParams\n",
    "from gaussian_renderer import render\n",
    "from scene import Scene, GaussianModel\n",
    "import tqdm as notebook_tqdm"
   ]
  },
  {
   "cell_type": "code",
   "execution_count": 25,
   "id": "67c58a03",
   "metadata": {
    "ExecuteTime": {
     "end_time": "2024-12-20T07:15:12.267826Z",
     "start_time": "2024-12-20T07:15:12.249822Z"
    }
   },
   "outputs": [],
   "source": [
    "parser = ArgumentParser(description=\"Training script parameters\")\n",
    "lp = ModelParams(parser)\n",
    "op = OptimizationParams(parser)\n",
    "pp = PipelineParams(parser)\n",
    "parser.add_argument('--ip', type=str, default=\"127.0.0.1\")\n",
    "parser.add_argument('--port', type=int, default=6009)\n",
    "parser.add_argument('--debug_from', type=int, default=-1)\n",
    "parser.add_argument('--detect_anomaly', action='store_true', default=False)\n",
    "parser.add_argument(\"--test_iterations\", nargs=\"+\", type=int, default=[7_000, 30_000])\n",
    "parser.add_argument(\"--save_iterations\", nargs=\"+\", type=int, default=[7_000, 30_000])\n",
    "parser.add_argument(\"--quiet\", action=\"store_true\")\n",
    "parser.add_argument(\"--checkpoint_iterations\", nargs=\"+\", type=int, default=[7_000, 30_000])\n",
    "parser.add_argument(\"--start_checkpoint\", type=str, default = None)\n",
    "args = parser.parse_args([\"-s\", \"data/kitchen_8\", \"-m\", \"output/kitchen_8\"])\n",
    "dataset = lp.extract(args)\n",
    "opt = op.extract(args)\n",
    "pipe = pp.extract(args)"
   ]
  },
  {
   "cell_type": "code",
   "execution_count": 26,
   "id": "6291d469",
   "metadata": {
    "ExecuteTime": {
     "end_time": "2024-12-20T07:15:14.270189Z",
     "start_time": "2024-12-20T07:15:12.751301Z"
    }
   },
   "outputs": [
    {
     "name": "stdout",
     "output_type": "stream",
     "text": [
      "Reading camera 8/8\n",
      "Loading Training Cameras\n",
      "Loading Test Cameras\n",
      "Number of points at initialisation :  22\n"
     ]
    }
   ],
   "source": [
    "gaussians = GaussianModel(dataset.sh_degree, opt.optimizer_type)\n",
    "scene = Scene(dataset, gaussians)"
   ]
  },
  {
   "cell_type": "code",
   "execution_count": 27,
   "id": "3c9e8661",
   "metadata": {
    "ExecuteTime": {
     "end_time": "2024-12-20T07:15:14.286170Z",
     "start_time": "2024-12-20T07:15:14.272188Z"
    }
   },
   "outputs": [],
   "source": [
    "views = scene.getTrainCameras()"
   ]
  },
  {
   "cell_type": "code",
   "execution_count": 28,
   "id": "9bc81022",
   "metadata": {
    "ExecuteTime": {
     "end_time": "2024-12-20T07:15:14.535384Z",
     "start_time": "2024-12-20T07:15:14.529384Z"
    },
    "code_folding": []
   },
   "outputs": [],
   "source": [
    "poses = []\n",
    "for view in views:\n",
    "    pose = np.eye(4)\n",
    "    pose[:3] = np.concatenate([view.R.T, view.T[:, None]], 1)\n",
    "    pose = np.linalg.inv(pose)\n",
    "    pose[:, 1:3] *= -1\n",
    "    poses.append(pose)"
   ]
  },
  {
   "cell_type": "markdown",
   "id": "8818ebdc-ce2b-47dd-b10e-e55d8dee66c7",
   "metadata": {
    "ExecuteTime": {
     "end_time": "2024-12-20T07:46:06.564641Z",
     "start_time": "2024-12-20T07:46:06.553642Z"
    },
    "editable": true,
    "slideshow": {
     "slide_type": ""
    },
    "tags": []
   },
   "source": [
    "# 伪视图生成"
   ]
  },
  {
   "cell_type": "code",
   "execution_count": 1,
   "id": "484087e6-37cb-4cef-a4c6-3f4cc9ae1772",
   "metadata": {},
   "outputs": [],
   "source": [
    "import torch\n",
    "import torchvision\n",
    "import numpy as np\n",
    "import importlib\n",
    "from argparse import ArgumentParser, Namespace\n",
    "from arguments import ModelParams, PipelineParams, OptimizationParams\n",
    "from gaussian_renderer import render\n",
    "from scene import Scene, GaussianModel\n",
    "import tqdm as notebook_tqdm"
   ]
  },
  {
   "cell_type": "code",
   "execution_count": 2,
   "id": "6f84d6cf",
   "metadata": {
    "ExecuteTime": {
     "end_time": "2024-12-20T07:46:07.461485Z",
     "start_time": "2024-12-20T07:46:07.281851Z"
    },
    "scrolled": true
   },
   "outputs": [],
   "source": [
    "parser = ArgumentParser(description=\"Training script parameters\")\n",
    "lp = ModelParams(parser)\n",
    "op = OptimizationParams(parser)\n",
    "pp = PipelineParams(parser)\n",
    "parser.add_argument('--ip', type=str, default=\"127.0.0.1\")\n",
    "parser.add_argument('--port', type=int, default=6009)\n",
    "parser.add_argument('--debug_from', type=int, default=-1)\n",
    "parser.add_argument('--detect_anomaly', action='store_true', default=False)\n",
    "parser.add_argument(\"--test_iterations\", nargs=\"+\", type=int, default=[7_000, 30_000])\n",
    "parser.add_argument(\"--save_iterations\", nargs=\"+\", type=int, default=[7_000, 30_000])\n",
    "parser.add_argument(\"--quiet\", action=\"store_true\")\n",
    "parser.add_argument(\"--checkpoint_iterations\", nargs=\"+\", type=int, default=[7_000, 30_000])\n",
    "parser.add_argument(\"--start_checkpoint\", type=str, default = None)\n",
    "args = parser.parse_args([\"-s\", \"data/bicycle_2\", \"-m\", \"output3/bicycle_2\"])\n",
    "dataset = lp.extract(args)\n",
    "opt = op.extract(args)\n",
    "pipe = pp.extract(args)"
   ]
  },
  {
   "cell_type": "code",
   "execution_count": 51,
   "id": "1902faf7",
   "metadata": {
    "ExecuteTime": {
     "end_time": "2024-12-20T08:27:41.064668Z",
     "start_time": "2024-12-20T08:27:41.057664Z"
    },
    "editable": true,
    "slideshow": {
     "slide_type": ""
    },
    "tags": []
   },
   "outputs": [
    {
     "name": "stdout",
     "output_type": "stream",
     "text": [
      "Reading camera 2/2\n",
      "Loading Training Cameras\n",
      "Loading Test Cameras\n",
      "Number of points at initialisation :  170618\n"
     ]
    }
   ],
   "source": [
    "gaussians = GaussianModel(dataset.sh_degree, opt.optimizer_type)\n",
    "scene = Scene(dataset, gaussians)"
   ]
  },
  {
   "cell_type": "code",
   "execution_count": 52,
   "id": "b597d78e-9a1b-4385-8fb5-2595b4675bff",
   "metadata": {},
   "outputs": [],
   "source": [
    "ori_views = scene.getTrainCameras()"
   ]
  },
  {
   "cell_type": "code",
   "execution_count": 20,
   "id": "b446bcae",
   "metadata": {
    "ExecuteTime": {
     "end_time": "2024-12-20T08:28:14.500069Z",
     "start_time": "2024-12-20T08:28:14.490035Z"
    }
   },
   "outputs": [],
   "source": [
    "from scipy.spatial.transform import Rotation as R\n",
    "R1 = R.from_quat(np.array([0.8395176994653495, -0.00012065300298831745, 0.5433144542162123, -0.004406990696602375])).as_matrix()  # (3,3)\n",
    "R2 = R.from_quat(np.array([0.0, 0.0, 0.0, 1])).as_matrix()  # (3,3)"
   ]
  },
  {
   "cell_type": "code",
   "execution_count": 53,
   "id": "97d9892e-a4ae-4c90-b5a3-75cba4cee9ae",
   "metadata": {},
   "outputs": [
    {
     "data": {
      "text/plain": [
       "array([[ 0.40957996, -0.0075306 , -0.91224314],\n",
       "       [ 0.00726839,  0.99996113, -0.00499134],\n",
       "       [ 0.91224526, -0.00458618,  0.40961878]])"
      ]
     },
     "execution_count": 53,
     "metadata": {},
     "output_type": "execute_result"
    }
   ],
   "source": [
    "ori_views[0].R"
   ]
  },
  {
   "cell_type": "code",
   "execution_count": 88,
   "id": "e28ebaf5-b299-4e02-aea0-2ec4a9d52f92",
   "metadata": {},
   "outputs": [],
   "source": [
    "def get_new_pose(original_pose, num_views=14):\n",
    "    R1 = original_pose[0].R # (3,3)\n",
    "    R2 = original_pose[1].R  # (3,3)\n",
    "    t1 =  original_pose[0].T\n",
    "    t2 =  original_pose[1].T\n",
    "    C1 = -R1.T @ t1  # (3,1)\n",
    "    C2 = -R2.T @ t2  # (3,1)\n",
    "    center = (C1 + C2) / 2  # 椭圆中心 (3,1)\n",
    "    a = np.linalg.norm(C1 - C2) / 2  # 长轴\n",
    "    b = a / 2  # 短轴\n",
    "\n",
    "    # 计算两个相机视角之间的角度范围\n",
    "    angle1 = np.arctan2(C1[1] - center[1], C1[0] - center[0])  # 视角1的角度\n",
    "    angle2 = np.arctan2(C2[1] - center[1], C2[0] - center[0])  # 视角2的角度\n",
    "\n",
    "    # 确保角度按顺时针或逆时针顺序排列\n",
    "    if angle2 < angle1:\n",
    "        angle2 += 2 * np.pi  # 保证 angle2 大于 angle1\n",
    "\n",
    "    # 在两个视角之间均匀分布的角度\n",
    "    angles = np.linspace(angle1, angle2, num_views)  # 均匀采样角度\n",
    "\n",
    "    # 生成椭圆轨道上的点\n",
    "    ellipse_points = np.hstack([a * np.cos(angles).reshape(-1, 1),\n",
    "                                b * np.sin(angles).reshape(-1, 1),\n",
    "                                np.zeros((num_views, 1))])  # (num_views, 3)\n",
    "\n",
    "    # 处理广播问题 (转换 center 为 (1,3) 以进行广播)\n",
    "    center = center.reshape(1, 3)  # 确保形状匹配\n",
    "    ellipse_points = ellipse_points + center  # (num_views, 3) + (1, 3) 可广播\n",
    "\n",
    "    # 计算每个点的位姿\n",
    "    poses = []\n",
    "    for point in ellipse_points:\n",
    "        # 相机位置\n",
    "        C_new = point.reshape(3, 1)  # 转换为 (3,1)\n",
    "\n",
    "        # 相机朝向场景中心\n",
    "        look_at = center.T  # 变成 (3,1)\n",
    "        forward = look_at - C_new\n",
    "        forward = forward / np.linalg.norm(forward)\n",
    "\n",
    "        # 计算旋转矩阵\n",
    "        up = np.array([0, 1, 0])  # 假设上方向为 Y 轴\n",
    "        right = np.cross(up, forward.squeeze())  # 计算右方向\n",
    "        right = right / np.linalg.norm(right)\n",
    "        up = np.cross(forward.squeeze(), right)  # 重新计算 up\n",
    "\n",
    "        R_new = np.vstack((right, up, -forward.squeeze())).T  # 计算新的旋转矩阵\n",
    "        # 强制保证旋转矩阵是右手坐标系\n",
    "        if np.linalg.det(R_new) < 0:\n",
    "            R_new = -R_new\n",
    "\n",
    "        # 计算新的平移向量\n",
    "        t_new = -R_new @ C_new\n",
    "\n",
    "        # 将旋转矩阵和平移向量合并为一个 (3, 4) 的矩阵\n",
    "        pose_new = np.hstack([R_new, t_new])  # (3, 4)\n",
    "\n",
    "        # 添加新位姿到 poses 列表中\n",
    "        poses.append(pose_new)\n",
    "\n",
    "    # 将第一个和最后一个视角添加为原始位姿\n",
    "    R1_t = np.hstack([R1, t1])  # (3, 4)\n",
    "    R2_t = np.hstack([R2, t2])  # (3, 4)\n",
    "\n",
    "    poses.insert(0, R1_t)  # 在最前面添加原始第一个相机位姿\n",
    "    poses.append(R2_t)  # 在最后添加原始第二个相机位姿\n",
    "\n",
    "    poses_np = np.array(poses, dtype=np.float32)  \n",
    "    return poses_np"
   ]
  },
  {
   "cell_type": "code",
   "execution_count": 86,
   "id": "c198b60a-337b-433c-8c05-077ddea5f263",
   "metadata": {},
   "outputs": [],
   "source": [
    "render_poses = get_new_pose(ori_views)"
   ]
  },
  {
   "cell_type": "code",
   "execution_count": null,
   "id": "d127dfc7-4a32-421a-a4b3-3db97040c571",
   "metadata": {},
   "outputs": [],
   "source": []
  },
  {
   "cell_type": "code",
   "execution_count": null,
   "id": "41fc5fa5-5d36-4ae6-a56c-81514ad8b8af",
   "metadata": {},
   "outputs": [],
   "source": []
  },
  {
   "cell_type": "code",
   "execution_count": null,
   "id": "2a60773f-70f2-4561-9bfd-6b26e7904b15",
   "metadata": {},
   "outputs": [],
   "source": []
  },
  {
   "cell_type": "code",
   "execution_count": null,
   "id": "94db9899-f7a7-4819-8ea9-9b49ce8e6b68",
   "metadata": {},
   "outputs": [],
   "source": []
  },
  {
   "cell_type": "code",
   "execution_count": null,
   "id": "cf18bc0a-344f-4495-87e6-443e2b9219cc",
   "metadata": {},
   "outputs": [],
   "source": []
  },
  {
   "cell_type": "code",
   "execution_count": null,
   "id": "0bec4b9a-51cc-4907-b1eb-c875d3bbc96f",
   "metadata": {},
   "outputs": [],
   "source": []
  },
  {
   "cell_type": "code",
   "execution_count": null,
   "id": "df430b8a-4a40-4304-831f-a3fbce092cec",
   "metadata": {},
   "outputs": [],
   "source": []
  },
  {
   "cell_type": "code",
   "execution_count": null,
   "id": "7516f0c8-4610-4515-91b6-ea3736ac5e19",
   "metadata": {},
   "outputs": [],
   "source": []
  },
  {
   "cell_type": "code",
   "execution_count": null,
   "id": "94df360e-94da-40b6-bd2e-425ed20021d7",
   "metadata": {},
   "outputs": [],
   "source": []
  },
  {
   "cell_type": "code",
   "execution_count": null,
   "id": "2065414f-4d07-4a42-83b4-c15cf39acdb8",
   "metadata": {},
   "outputs": [],
   "source": []
  },
  {
   "cell_type": "code",
   "execution_count": null,
   "id": "86753214-980d-4c72-8cd5-50f599ca3292",
   "metadata": {},
   "outputs": [],
   "source": []
  }
 ],
 "metadata": {
  "kernelspec": {
   "display_name": "Python 3 (ipykernel)",
   "language": "python",
   "name": "python3"
  },
  "language_info": {
   "codemirror_mode": {
    "name": "ipython",
    "version": 3
   },
   "file_extension": ".py",
   "mimetype": "text/x-python",
   "name": "python",
   "nbconvert_exporter": "python",
   "pygments_lexer": "ipython3",
   "version": "3.10.16"
  },
  "toc": {
   "base_numbering": 1,
   "nav_menu": {},
   "number_sections": true,
   "sideBar": true,
   "skip_h1_title": false,
   "title_cell": "Table of Contents",
   "title_sidebar": "Contents",
   "toc_cell": false,
   "toc_position": {},
   "toc_section_display": true,
   "toc_window_display": false
  }
 },
 "nbformat": 4,
 "nbformat_minor": 5
}
